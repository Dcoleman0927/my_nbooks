{
 "cells": [
  {
   "cell_type": "markdown",
   "id": "5df3a65d-bf83-47f0-bab1-7df1507dd6e9",
   "metadata": {
    "tags": []
   },
   "source": [
    "# Coleman Notebook"
   ]
  },
  {
   "cell_type": "markdown",
   "id": "7afa60e3-3972-4c0e-951f-2809fba9398e",
   "metadata": {
    "tags": []
   },
   "source": [
    "## Denzel Coleman"
   ]
  },
  {
   "cell_type": "code",
   "execution_count": 29,
   "id": "d58c9589-01d2-48fa-a6e1-9a7edbd93d02",
   "metadata": {
    "tags": []
   },
   "outputs": [],
   "source": [
    "import random\n",
    "\n",
    "nums=[random.randint(30,100) for x in range(40)] "
   ]
  },
  {
   "cell_type": "code",
   "execution_count": 36,
   "id": "7359becc-991d-4956-bc3f-32f50b8934fb",
   "metadata": {
    "tags": []
   },
   "outputs": [
    {
     "name": "stdout",
     "output_type": "stream",
     "text": [
      "35 35 36 36 37 41 45 49 49 49 51 51 52 55 57 57 61 63 65 65 66 67 67 68 68 74 75 76 78 79 81 82 85 90 91 93 95 96 97 100\n"
     ]
    }
   ],
   "source": [
    "nums.sort()\n",
    "print(*nums, sep = \" \")"
   ]
  },
  {
   "cell_type": "markdown",
   "id": "617daf10-d18c-42fd-a468-2a73f0db0d8a",
   "metadata": {
    "tags": []
   },
   "source": [
    "## The Sample Mean"
   ]
  },
  {
   "cell_type": "code",
   "execution_count": 37,
   "id": "b609f76f-4d72-4fc7-bc77-87eff20aa481",
   "metadata": {
    "tags": []
   },
   "outputs": [],
   "source": [
    "# In order to find sample mean \n",
    "# First add up the sample items\n",
    "# Divide the sum by the number of samples\n",
    "# The result equals the mean"
   ]
  },
  {
   "cell_type": "markdown",
   "id": "f2cfff64-58c8-4651-94a1-9c6623b11e8c",
   "metadata": {
    "tags": []
   },
   "source": [
    "# $\\overline{x}$ = $\\frac{\\sum X_i}{n}$"
   ]
  },
  {
   "cell_type": "code",
   "execution_count": 38,
   "id": "1c39381f-fa77-4ce8-9168-f12b7c477295",
   "metadata": {
    "tags": []
   },
   "outputs": [
    {
     "name": "stdout",
     "output_type": "stream",
     "text": [
      "The mean is:  65.42\n"
     ]
    }
   ],
   "source": [
    "sum = 0\n",
    "n = len(nums)\n",
    "\n",
    "for i in nums:\n",
    "    sum = sum + i\n",
    "\n",
    "    mean = sum/n\n",
    "print(f'The mean is:  {mean:.2f}')"
   ]
  },
  {
   "cell_type": "markdown",
   "id": "5206a98a-2a06-442f-ba40-78481a82ed3d",
   "metadata": {},
   "source": [
    "## The Median"
   ]
  },
  {
   "cell_type": "markdown",
   "id": "6d548b06-f538-4ca9-b63e-aca7439fde8f",
   "metadata": {
    "tags": []
   },
   "source": [
    "[Stastical Median](https://www.techtarget.com/searchdatacenter/definition/statistical-mean-median-mode-and-range)"
   ]
  },
  {
   "cell_type": "code",
   "execution_count": 39,
   "id": "af782178-994c-470d-87c4-12b91df6b6f9",
   "metadata": {
    "tags": []
   },
   "outputs": [
    {
     "name": "stdout",
     "output_type": "stream",
     "text": [
      "The median is: 65.5\n"
     ]
    }
   ],
   "source": [
    "# To find the median for an even list of numbers you want to\n",
    "# first sort the number list in ascending order.\n",
    "# second, we want to check if that list has an even or odd remainder.\n",
    "# If the list is even, we would determine the two middle numbers in that list and finally print that result.\n",
    "nums.sort()\n",
    "length = len(nums)\n",
    "mid = length // 2\n",
    "\n",
    "if length % 2 == 0:\n",
    "    median = (nums[mid - 1] + nums[mid]) / 2\n",
    "print(f'The median is: {median:.1f}')"
   ]
  },
  {
   "cell_type": "code",
   "execution_count": null,
   "id": "f78467d3-b269-401d-b3bc-173b00a3aeb3",
   "metadata": {},
   "outputs": [],
   "source": []
  },
  {
   "cell_type": "code",
   "execution_count": null,
   "id": "16c6aec6-665a-4df4-80e4-ff01c94839b5",
   "metadata": {},
   "outputs": [],
   "source": []
  }
 ],
 "metadata": {
  "kernelspec": {
   "display_name": "Python 3 (ipykernel)",
   "language": "python",
   "name": "python3"
  },
  "language_info": {
   "codemirror_mode": {
    "name": "ipython",
    "version": 3
   },
   "file_extension": ".py",
   "mimetype": "text/x-python",
   "name": "python",
   "nbconvert_exporter": "python",
   "pygments_lexer": "ipython3",
   "version": "3.11.5"
  }
 },
 "nbformat": 4,
 "nbformat_minor": 5
}
